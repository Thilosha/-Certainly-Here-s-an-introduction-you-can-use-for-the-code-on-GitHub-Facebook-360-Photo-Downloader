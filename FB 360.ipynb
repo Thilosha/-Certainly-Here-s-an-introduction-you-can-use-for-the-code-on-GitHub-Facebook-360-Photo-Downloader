{
  "nbformat": 4,
  "nbformat_minor": 0,
  "metadata": {
    "colab": {
      "provenance": [],
      "authorship_tag": "ABX9TyOWWXTkGe8pTrd765YtN9GN",
      "include_colab_link": true
    },
    "kernelspec": {
      "name": "python3",
      "display_name": "Python 3"
    },
    "language_info": {
      "name": "python"
    }
  },
  "cells": [
    {
      "cell_type": "markdown",
      "metadata": {
        "id": "view-in-github",
        "colab_type": "text"
      },
      "source": [
        "<a href=\"https://colab.research.google.com/github/Thilosha/Facebook-360-Photo-Downloader/blob/main/FB%20360.ipynb\" target=\"_parent\"><img src=\"https://colab.research.google.com/assets/colab-badge.svg\" alt=\"Open In Colab\"/></a>"
      ]
    },
    {
      "cell_type": "code",
      "execution_count": 2,
      "metadata": {
        "colab": {
          "base_uri": "https://localhost:8080/"
        },
        "id": "lO9i6fYYetjw",
        "outputId": "15abe80e-6435-431c-91ae-d5982bcd4028"
      },
      "outputs": [
        {
          "output_type": "stream",
          "name": "stdout",
          "text": [
            "Enter the Facebook 360 photo link: https://www.facebook.com/aerialpro2/photos/pb.100064839602246.-2207520000./6951686734857669/?type=3\n",
            "Enter the save location for the photo: /content/sample_data/image.jpeg\n",
            "360 photo downloaded successfully!\n"
          ]
        }
      ],
      "source": [
        "import requests\n",
        "\n",
        "def download_360_photo(url, save_path):\n",
        "    response = requests.get(url)\n",
        "    if response.status_code == 200:\n",
        "        with open(save_path, 'wb') as file:\n",
        "            file.write(response.content)\n",
        "        print('360 photo downloaded successfully!')\n",
        "    else:\n",
        "        print('Failed to download the 360 photo.')\n",
        "\n",
        "# Example usage\n",
        "facebook_url = input('Enter the Facebook 360 photo link: ')\n",
        "save_location = input('Enter the save location for the photo: ')\n",
        "download_360_photo(facebook_url, save_location)\n"
      ]
    },
    {
      "cell_type": "code",
      "source": [],
      "metadata": {
        "id": "Q1oyv6M5ft5a"
      },
      "execution_count": null,
      "outputs": []
    }
  ]
}